{
 "cells": [
  {
   "cell_type": "code",
   "execution_count": 5,
   "metadata": {
    "collapsed": true
   },
   "outputs": [],
   "source": [
    "filename = 'data/Sezioni.pkl'\n",
    "fileout = 'WSG84-Sezioni.pkl'"
   ]
  },
  {
   "cell_type": "code",
   "execution_count": 6,
   "metadata": {
    "collapsed": false
   },
   "outputs": [],
   "source": [
    "import shapefile as shp\n",
    "import pandas as pd\n",
    "import numpy as np\n",
    "\n",
    "\n",
    "df = pd.read_pickle(filename)\n",
    "\n",
    "from pyproj import Proj, transform\n",
    "inProj = Proj(init='epsg:32632')\n",
    "outProj = Proj(init='epsg:4326')\n",
    "\n",
    "df = df.merge(df.apply(lambda row: pd.Series({\n",
    "            'lat84':transform(inProj,outProj,row['lat'],row['lon'])[0],\n",
    "            'lon84':transform(inProj,outProj,row['lat'],row['lon'])[1]}\n",
    "                                     ),axis=1),left_index=True,right_index=True)\n",
    "\n",
    "del df['lat']\n",
    "del df['lon']\n",
    "\n",
    "df.to_pickle(''.join(['data/',fileout]))"
   ]
  },
  {
   "cell_type": "code",
   "execution_count": null,
   "metadata": {
    "collapsed": true
   },
   "outputs": [],
   "source": []
  }
 ],
 "metadata": {
  "kernelspec": {
   "display_name": "Python 2",
   "language": "python",
   "name": "python2"
  },
  "language_info": {
   "codemirror_mode": {
    "name": "ipython",
    "version": 2
   },
   "file_extension": ".py",
   "mimetype": "text/x-python",
   "name": "python",
   "nbconvert_exporter": "python",
   "pygments_lexer": "ipython2",
   "version": "2.7.9"
  }
 },
 "nbformat": 4,
 "nbformat_minor": 0
}
