{
 "cells": [
  {
   "cell_type": "code",
   "execution_count": 5,
   "metadata": {
    "collapsed": true
   },
   "outputs": [],
   "source": [
    "filein = 'GeoData/Sezioni/R06_11_WGS84.shp'\n",
    "fileout = 'Sezioni.pkl'"
   ]
  },
  {
   "cell_type": "code",
   "execution_count": 6,
   "metadata": {
    "collapsed": false
   },
   "outputs": [],
   "source": [
    "import shapefile as shp\n",
    "import pandas as pd\n",
    "import numpy as np\n",
    "\n",
    "sf = shp.Reader(filein)\n",
    "\n",
    "data = []\n",
    "for rec in sf.records():\n",
    "    temp = []\n",
    "    for rr in rec:\n",
    "        temp.append(rr)\n",
    "    data.append(temp)\n",
    "\n",
    "df = pd.DataFrame(data,columns=[ col[0] for col in sf.fields if col[0] != 'DeletionFlag'])\n",
    "\n",
    "shapes_x = []\n",
    "shapes_y = []\n",
    "for shape in sf.shapes():\n",
    "    arr = shape.points\n",
    "    shapes_x.append([ arr[i][0] for i in range(0,len(arr))])\n",
    "    shapes_y.append([ arr[i][1] for i in range(0,len(arr))])\n",
    "\n",
    "df['lat'] = shapes_x\n",
    "df['lon'] = shapes_y\n",
    "\n",
    "df.to_pickle(''.join(['data/',fileout]))"
   ]
  },
  {
   "cell_type": "code",
   "execution_count": null,
   "metadata": {
    "collapsed": true
   },
   "outputs": [],
   "source": []
  }
 ],
 "metadata": {
  "kernelspec": {
   "display_name": "Python 2",
   "language": "python",
   "name": "python2"
  },
  "language_info": {
   "codemirror_mode": {
    "name": "ipython",
    "version": 2
   },
   "file_extension": ".py",
   "mimetype": "text/x-python",
   "name": "python",
   "nbconvert_exporter": "python",
   "pygments_lexer": "ipython2",
   "version": "2.7.9"
  }
 },
 "nbformat": 4,
 "nbformat_minor": 0
}
